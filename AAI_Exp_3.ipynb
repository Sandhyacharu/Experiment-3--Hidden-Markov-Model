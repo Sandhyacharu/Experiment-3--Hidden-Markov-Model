{
  "nbformat": 4,
  "nbformat_minor": 0,
  "metadata": {
    "colab": {
      "provenance": []
    },
    "kernelspec": {
      "name": "python3",
      "display_name": "Python 3"
    },
    "language_info": {
      "name": "python"
    }
  },
  "cells": [
    {
      "cell_type": "code",
      "execution_count": 1,
      "metadata": {
        "id": "wQUqiucF5TMw"
      },
      "outputs": [],
      "source": [
        "import numpy as np"
      ]
    },
    {
      "cell_type": "code",
      "source": [
        "transition_matrix=np.array([[0.7,0.3],\n",
        "                            [0.4,0.6]])\n",
        "emission_matrix=np.array([[0.1,0.9],\n",
        "                          [0.8,0.2]])"
      ],
      "metadata": {
        "id": "kUZkGrTv5YV2"
      },
      "execution_count": 2,
      "outputs": []
    },
    {
      "cell_type": "code",
      "source": [
        "initial_probabilities=np.array([0.5,0.5])\n",
        "observed_sequence=np.array([1,1,1,0,0,1])"
      ],
      "metadata": {
        "id": "RFEkI9HX5aed"
      },
      "execution_count": 3,
      "outputs": []
    },
    {
      "cell_type": "code",
      "source": [
        "alpha=np.zeros((len(observed_sequence),len(initial_probabilities)))\n",
        "alpha[0,:]=initial_probabilities*emission_matrix[:,observed_sequence[0]]"
      ],
      "metadata": {
        "id": "1lHWhJA55dRX"
      },
      "execution_count": 4,
      "outputs": []
    },
    {
      "cell_type": "code",
      "source": [
        "for t in range(1,len(observed_sequence)):\n",
        "  for j in range(len(initial_probabilities)):\n",
        "    alpha[t,j]=emission_matrix[j,observed_sequence[t]]*np.sum(alpha[t-1,:]*transition_matrix[:,j])\n",
        "probability=np.sum(alpha[-1,:])\n",
        "print(\"The probability of the observed sequence is: \",probability)\n",
        "most_likely_sequence=[]\n",
        "for t in range(len(observed_sequence)):\n",
        "  if alpha[t,0] > alpha[t,1]:\n",
        "    most_likely_sequence.append(\"sunny\")\n",
        "  else:\n",
        "    most_likely_sequence.append(\"rainy\")\n",
        "\n",
        "print(\"The most likely sequence of weather states is: \",most_likely_sequence)"
      ],
      "metadata": {
        "colab": {
          "base_uri": "https://localhost:8080/"
        },
        "id": "8uM9HEKe5fAD",
        "outputId": "2721dd12-f678-4353-8d0a-98130b1e6b84"
      },
      "execution_count": 9,
      "outputs": [
        {
          "output_type": "stream",
          "name": "stdout",
          "text": [
            "The probability of the observed sequence is:  0.018906881625\n",
            "The most likely sequence of weather states is:  ['sunny', 'sunny', 'sunny', 'rainy', 'rainy', 'sunny']\n"
          ]
        }
      ]
    },
    {
      "cell_type": "code",
      "source": [],
      "metadata": {
        "id": "Qb1escQr5imu"
      },
      "execution_count": 6,
      "outputs": []
    },
    {
      "cell_type": "code",
      "source": [],
      "metadata": {
        "id": "JFxlYANH5kzT"
      },
      "execution_count": 8,
      "outputs": []
    },
    {
      "cell_type": "code",
      "source": [],
      "metadata": {
        "id": "0mDhA4om5mex"
      },
      "execution_count": null,
      "outputs": []
    }
  ]
}